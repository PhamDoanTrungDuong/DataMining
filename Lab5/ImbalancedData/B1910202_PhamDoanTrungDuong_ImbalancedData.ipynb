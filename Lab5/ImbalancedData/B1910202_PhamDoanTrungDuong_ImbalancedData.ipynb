{
 "cells": [
  {
   "cell_type": "markdown",
   "metadata": {},
   "source": [
    "## Đọc dữ liệu từ Kaggle"
   ]
  },
  {
   "cell_type": "code",
   "execution_count": 2,
   "metadata": {},
   "outputs": [],
   "source": [
    "import pandas as pd\n",
    "from sklearn.model_selection import train_test_split\n",
    "from sklearn.ensemble import RandomForestClassifier\n",
    "from sklearn.metrics import accuracy_score, recall_score\n",
    "from imblearn.over_sampling import SMOTE\n",
    "\n",
    "url = \"https://storage.googleapis.com/download.tensorflow.org/data/creditcard.csv\"\n",
    "data = pd.read_csv(url)"
   ]
  },
  {
   "cell_type": "markdown",
   "metadata": {},
   "source": [
    "## Xem thông tin và phân phối của thuộc tính \"Class\""
   ]
  },
  {
   "cell_type": "code",
   "execution_count": 3,
   "metadata": {},
   "outputs": [
    {
     "name": "stdout",
     "output_type": "stream",
     "text": [
      "Phân phối của thuộc tính 'Class':\n",
      "0    284315\n",
      "1       492\n",
      "Name: Class, dtype: int64\n"
     ]
    }
   ],
   "source": [
    "class_distribution = data[\"Class\"].value_counts()\n",
    "print(\"Phân phối của thuộc tính 'Class':\")\n",
    "print(class_distribution)"
   ]
  },
  {
   "cell_type": "markdown",
   "metadata": {},
   "source": [
    "## Chia dữ liệu thành tập huấn luyện và tập kiểm tra"
   ]
  },
  {
   "cell_type": "code",
   "execution_count": 4,
   "metadata": {},
   "outputs": [],
   "source": [
    "X = data.drop(\"Class\", axis=1)\n",
    "y = data[\"Class\"]\n",
    "X_train, X_test, y_train, y_test = train_test_split(X, y, test_size=0.2, random_state=42, stratify=y)\n"
   ]
  },
  {
   "cell_type": "markdown",
   "metadata": {},
   "source": [
    "## Huấn luyện mô hình Random Forest và đo chỉ số accuracy và recall trường hợp không xử lý gì cả"
   ]
  },
  {
   "cell_type": "code",
   "execution_count": 5,
   "metadata": {},
   "outputs": [
    {
     "name": "stdout",
     "output_type": "stream",
     "text": [
      "Kết quả trường hợp không xử lý cân bằng dữ liệu:\n",
      "Accuracy: 0.9995962220427653\n",
      "Recall: 0.8163265306122449\n"
     ]
    }
   ],
   "source": [
    "clf = RandomForestClassifier(random_state=42)\n",
    "clf.fit(X_train, y_train)\n",
    "y_pred = clf.predict(X_test)\n",
    "\n",
    "accuracy_no_balance = accuracy_score(y_test, y_pred)\n",
    "recall_no_balance = recall_score(y_test, y_pred)\n",
    "\n",
    "print(\"Kết quả trường hợp không xử lý cân bằng dữ liệu:\")\n",
    "print(\"Accuracy:\", accuracy_no_balance)\n",
    "print(\"Recall:\", recall_no_balance)"
   ]
  },
  {
   "cell_type": "markdown",
   "metadata": {},
   "source": [
    "## Sử dụng SMOTE để cân bằng dữ liệu"
   ]
  },
  {
   "cell_type": "code",
   "execution_count": 6,
   "metadata": {},
   "outputs": [],
   "source": [
    "smt = SMOTE()\n",
    "X_train_smt, y_train_smt = smt.fit_resample(X_train, y_train)"
   ]
  },
  {
   "cell_type": "markdown",
   "metadata": {},
   "source": [
    "## Huấn luyện mô hình Random Forest và đo chỉ số accuracy và recall sau khi sử dụng SMOTE"
   ]
  },
  {
   "cell_type": "code",
   "execution_count": 7,
   "metadata": {},
   "outputs": [
    {
     "name": "stdout",
     "output_type": "stream",
     "text": [
      "Kết quả sau khi xử lý cân bằng dữ liệu bằng SMOTE:\n",
      "Accuracy: 0.999403110845827\n",
      "Recall: 0.826530612244898\n"
     ]
    }
   ],
   "source": [
    "clf_smt = RandomForestClassifier(random_state=42)\n",
    "clf_smt.fit(X_train_smt, y_train_smt)\n",
    "y_pred_smt = clf_smt.predict(X_test)\n",
    "\n",
    "accuracy_with_balance = accuracy_score(y_test, y_pred_smt)\n",
    "recall_with_balance = recall_score(y_test, y_pred_smt)\n",
    "\n",
    "print(\"Kết quả sau khi xử lý cân bằng dữ liệu bằng SMOTE:\")\n",
    "print(\"Accuracy:\", accuracy_with_balance)\n",
    "print(\"Recall:\", recall_with_balance)"
   ]
  }
 ],
 "metadata": {
  "kernelspec": {
   "display_name": "Python 3",
   "language": "python",
   "name": "python3"
  },
  "language_info": {
   "codemirror_mode": {
    "name": "ipython",
    "version": 3
   },
   "file_extension": ".py",
   "mimetype": "text/x-python",
   "name": "python",
   "nbconvert_exporter": "python",
   "pygments_lexer": "ipython3",
   "version": "3.11.4"
  }
 },
 "nbformat": 4,
 "nbformat_minor": 2
}
