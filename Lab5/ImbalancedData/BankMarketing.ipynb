{
 "cells": [
  {
   "cell_type": "code",
   "execution_count": 26,
   "metadata": {},
   "outputs": [],
   "source": [
    "import numpy as np\n",
    "import pandas as pd\n",
    "from sklearn.linear_model import LogisticRegression\n",
    "from sklearn.model_selection import train_test_split\n",
    "from sklearn.metrics import accuracy_score, confusion_matrix, recall_score\n",
    "from imblearn.over_sampling import SMOTE\n",
    "from imblearn.under_sampling import NearMiss\n",
    "bank = pd.read_csv(\"https://raw.githubusercontent.com/ltdaovn/dataset/master/bank/bank-full.csv\",sep = \";\", na_values = \"unknown\")"
   ]
  },
  {
   "cell_type": "markdown",
   "metadata": {},
   "source": [
    "### a. Tập dữ liệu có bao nhiêu hàng, bao nhiêu cột?"
   ]
  },
  {
   "cell_type": "code",
   "execution_count": 27,
   "metadata": {},
   "outputs": [
    {
     "name": "stdout",
     "output_type": "stream",
     "text": [
      "Số hàng trong tập dữ liệu: 45211\n",
      "Số cột trong tập dữ liệu: 17\n"
     ]
    }
   ],
   "source": [
    "# Lấy số hàng và số cột\n",
    "num_rows, num_columns = bank.shape\n",
    "\n",
    "# In số hàng và số cột\n",
    "print(\"Số hàng trong tập dữ liệu:\", num_rows)\n",
    "print(\"Số cột trong tập dữ liệu:\", num_columns)"
   ]
  },
  {
   "cell_type": "markdown",
   "metadata": {},
   "source": [
    "### b. Tập dữ liệu có bao nhiêu khách hàng? Trong đó bao nhiêu khách hàng đăng ký dịch vụ, bao nhiêu khách hàng không đăng ký. Học viên có kết luận gì về tính cân bằng của tập dữ liệu này."
   ]
  },
  {
   "cell_type": "code",
   "execution_count": 28,
   "metadata": {},
   "outputs": [
    {
     "name": "stdout",
     "output_type": "stream",
     "text": [
      "Số lượng khách hàng đăng ký dịch vụ: 5289\n",
      "Số lượng khách hàng không đăng ký dịch vụ: 39922\n"
     ]
    }
   ],
   "source": [
    "# Sử dụng value_counts() để đếm số lượng giá trị trong cột \"y\"\n",
    "customer_counts = bank[\"y\"].value_counts()\n",
    "\n",
    "# Lấy số lượng khách hàng đăng ký và không đăng ký\n",
    "customers_subscribed = customer_counts[\"yes\"]\n",
    "customers_not_subscribed = customer_counts[\"no\"]\n",
    "\n",
    "# In số lượng khách hàng và khách hàng đăng ký, không đăng ký\n",
    "print(\"Số lượng khách hàng đăng ký dịch vụ:\", customers_subscribed)\n",
    "print(\"Số lượng khách hàng không đăng ký dịch vụ:\", customers_not_subscribed)\n"
   ]
  },
  {
   "cell_type": "markdown",
   "metadata": {},
   "source": [
    "### c. Cột nào có nhiều dữ liệu rỗng (null). Hãy cho biết số lượng dữ liệu rỗng của các cột này. Để xóa bỏ các record có dữ liệu rỗng, chúng ta có thể sử dụng hàm gì trong thư viện pandas."
   ]
  },
  {
   "cell_type": "code",
   "execution_count": 29,
   "metadata": {},
   "outputs": [
    {
     "name": "stdout",
     "output_type": "stream",
     "text": [
      "Số lượng dữ liệu rỗng (null) trong từng cột:\n",
      "age              0\n",
      "job            288\n",
      "marital          0\n",
      "education     1857\n",
      "default          0\n",
      "balance          0\n",
      "housing          0\n",
      "loan             0\n",
      "contact      13020\n",
      "day              0\n",
      "month            0\n",
      "duration         0\n",
      "campaign         0\n",
      "pdays            0\n",
      "previous         0\n",
      "poutcome     36959\n",
      "y                0\n",
      "dtype: int64\n",
      "Cột có nhiều dữ liệu rỗng nhất: poutcome\n"
     ]
    }
   ],
   "source": [
    "# Tạo DataFrame chứa các giá trị boolean, True cho ô trống và False cho ô không trống\n",
    "null_values = bank.isnull()\n",
    "\n",
    "# Đếm số lượng dữ liệu rỗng (null) trong từng cột\n",
    "null_counts = null_values.sum()\n",
    "\n",
    "# Tìm cột có nhiều dữ liệu rỗng nhất\n",
    "column_with_most_null = null_counts.idxmax()\n",
    "\n",
    "# Số lượng dữ liệu rỗng trong từng cột\n",
    "print(\"Số lượng dữ liệu rỗng (null) trong từng cột:\")\n",
    "print(null_counts)\n",
    "\n",
    "# Tên cột có nhiều dữ liệu rỗng nhất\n",
    "print(\"Cột có nhiều dữ liệu rỗng nhất:\", column_with_most_null)\n"
   ]
  },
  {
   "cell_type": "code",
   "execution_count": 30,
   "metadata": {},
   "outputs": [
    {
     "data": {
      "text/html": [
       "<div>\n",
       "<style scoped>\n",
       "    .dataframe tbody tr th:only-of-type {\n",
       "        vertical-align: middle;\n",
       "    }\n",
       "\n",
       "    .dataframe tbody tr th {\n",
       "        vertical-align: top;\n",
       "    }\n",
       "\n",
       "    .dataframe thead th {\n",
       "        text-align: right;\n",
       "    }\n",
       "</style>\n",
       "<table border=\"1\" class=\"dataframe\">\n",
       "  <thead>\n",
       "    <tr style=\"text-align: right;\">\n",
       "      <th></th>\n",
       "      <th>age</th>\n",
       "      <th>job</th>\n",
       "      <th>marital</th>\n",
       "      <th>education</th>\n",
       "      <th>default</th>\n",
       "      <th>balance</th>\n",
       "      <th>housing</th>\n",
       "      <th>loan</th>\n",
       "      <th>contact</th>\n",
       "      <th>day</th>\n",
       "      <th>month</th>\n",
       "      <th>duration</th>\n",
       "      <th>campaign</th>\n",
       "      <th>pdays</th>\n",
       "      <th>previous</th>\n",
       "      <th>poutcome</th>\n",
       "      <th>y</th>\n",
       "    </tr>\n",
       "  </thead>\n",
       "  <tbody>\n",
       "    <tr>\n",
       "      <th>0</th>\n",
       "      <td>58</td>\n",
       "      <td>management</td>\n",
       "      <td>married</td>\n",
       "      <td>tertiary</td>\n",
       "      <td>no</td>\n",
       "      <td>2143</td>\n",
       "      <td>yes</td>\n",
       "      <td>no</td>\n",
       "      <td>NaN</td>\n",
       "      <td>5</td>\n",
       "      <td>may</td>\n",
       "      <td>261</td>\n",
       "      <td>1</td>\n",
       "      <td>-1</td>\n",
       "      <td>0</td>\n",
       "      <td>NaN</td>\n",
       "      <td>no</td>\n",
       "    </tr>\n",
       "    <tr>\n",
       "      <th>1</th>\n",
       "      <td>44</td>\n",
       "      <td>technician</td>\n",
       "      <td>single</td>\n",
       "      <td>secondary</td>\n",
       "      <td>no</td>\n",
       "      <td>29</td>\n",
       "      <td>yes</td>\n",
       "      <td>no</td>\n",
       "      <td>NaN</td>\n",
       "      <td>5</td>\n",
       "      <td>may</td>\n",
       "      <td>151</td>\n",
       "      <td>1</td>\n",
       "      <td>-1</td>\n",
       "      <td>0</td>\n",
       "      <td>NaN</td>\n",
       "      <td>no</td>\n",
       "    </tr>\n",
       "    <tr>\n",
       "      <th>2</th>\n",
       "      <td>33</td>\n",
       "      <td>entrepreneur</td>\n",
       "      <td>married</td>\n",
       "      <td>secondary</td>\n",
       "      <td>no</td>\n",
       "      <td>2</td>\n",
       "      <td>yes</td>\n",
       "      <td>yes</td>\n",
       "      <td>NaN</td>\n",
       "      <td>5</td>\n",
       "      <td>may</td>\n",
       "      <td>76</td>\n",
       "      <td>1</td>\n",
       "      <td>-1</td>\n",
       "      <td>0</td>\n",
       "      <td>NaN</td>\n",
       "      <td>no</td>\n",
       "    </tr>\n",
       "    <tr>\n",
       "      <th>3</th>\n",
       "      <td>47</td>\n",
       "      <td>blue-collar</td>\n",
       "      <td>married</td>\n",
       "      <td>NaN</td>\n",
       "      <td>no</td>\n",
       "      <td>1506</td>\n",
       "      <td>yes</td>\n",
       "      <td>no</td>\n",
       "      <td>NaN</td>\n",
       "      <td>5</td>\n",
       "      <td>may</td>\n",
       "      <td>92</td>\n",
       "      <td>1</td>\n",
       "      <td>-1</td>\n",
       "      <td>0</td>\n",
       "      <td>NaN</td>\n",
       "      <td>no</td>\n",
       "    </tr>\n",
       "    <tr>\n",
       "      <th>4</th>\n",
       "      <td>33</td>\n",
       "      <td>NaN</td>\n",
       "      <td>single</td>\n",
       "      <td>NaN</td>\n",
       "      <td>no</td>\n",
       "      <td>1</td>\n",
       "      <td>no</td>\n",
       "      <td>no</td>\n",
       "      <td>NaN</td>\n",
       "      <td>5</td>\n",
       "      <td>may</td>\n",
       "      <td>198</td>\n",
       "      <td>1</td>\n",
       "      <td>-1</td>\n",
       "      <td>0</td>\n",
       "      <td>NaN</td>\n",
       "      <td>no</td>\n",
       "    </tr>\n",
       "  </tbody>\n",
       "</table>\n",
       "</div>"
      ],
      "text/plain": [
       "   age           job  marital  education default  balance housing loan  \\\n",
       "0   58    management  married   tertiary      no     2143     yes   no   \n",
       "1   44    technician   single  secondary      no       29     yes   no   \n",
       "2   33  entrepreneur  married  secondary      no        2     yes  yes   \n",
       "3   47   blue-collar  married        NaN      no     1506     yes   no   \n",
       "4   33           NaN   single        NaN      no        1      no   no   \n",
       "\n",
       "  contact  day month  duration  campaign  pdays  previous poutcome   y  \n",
       "0     NaN    5   may       261         1     -1         0      NaN  no  \n",
       "1     NaN    5   may       151         1     -1         0      NaN  no  \n",
       "2     NaN    5   may        76         1     -1         0      NaN  no  \n",
       "3     NaN    5   may        92         1     -1         0      NaN  no  \n",
       "4     NaN    5   may       198         1     -1         0      NaN  no  "
      ]
     },
     "execution_count": 30,
     "metadata": {},
     "output_type": "execute_result"
    }
   ],
   "source": [
    "bank.head()"
   ]
  },
  {
   "cell_type": "code",
   "execution_count": 31,
   "metadata": {},
   "outputs": [
    {
     "data": {
      "text/plain": [
       "Index(['age', 'job', 'marital', 'education', 'default', 'balance', 'housing',\n",
       "       'loan', 'contact', 'day', 'month', 'duration', 'campaign', 'pdays',\n",
       "       'previous', 'poutcome', 'y'],\n",
       "      dtype='object')"
      ]
     },
     "execution_count": 31,
     "metadata": {},
     "output_type": "execute_result"
    }
   ],
   "source": [
    "bank.shape\n",
    "bank.columns"
   ]
  },
  {
   "cell_type": "code",
   "execution_count": 32,
   "metadata": {},
   "outputs": [],
   "source": [
    "bank[\"default\"] = bank[\"default\"].map({\"no\":0,\"yes\":1})\n",
    "bank[\"housing\"] = bank[\"housing\"].map({\"no\":0,\"yes\":1})\n",
    "bank[\"loan\"] = bank[\"loan\"].map({\"no\":0,\"yes\":1})\n",
    "bank[\"y\"] = bank[\"y\"].map({\"no\":0,\"yes\":1})\n",
    "bank.education = bank.education.map({\"primary\": 0, \"secondary\":1,\n",
    "\"tertiary\":2})\n",
    "bank.month = pd.to_datetime(bank.month, format = \"%b\").dt.month"
   ]
  },
  {
   "cell_type": "code",
   "execution_count": 33,
   "metadata": {},
   "outputs": [
    {
     "data": {
      "text/plain": [
       "age              0\n",
       "job            288\n",
       "marital          0\n",
       "education     1857\n",
       "default          0\n",
       "balance          0\n",
       "housing          0\n",
       "loan             0\n",
       "contact      13020\n",
       "day              0\n",
       "month            0\n",
       "duration         0\n",
       "campaign         0\n",
       "pdays            0\n",
       "previous         0\n",
       "poutcome     36959\n",
       "y                0\n",
       "dtype: int64"
      ]
     },
     "execution_count": 33,
     "metadata": {},
     "output_type": "execute_result"
    }
   ],
   "source": [
    "bank.isnull().sum()"
   ]
  },
  {
   "cell_type": "code",
   "execution_count": 34,
   "metadata": {},
   "outputs": [],
   "source": [
    "bank.drop([\"poutcome\", \"contact\"], axis = 1, inplace = True)\n",
    "bank.dropna(inplace = True)\n",
    "bank = pd.get_dummies(bank, drop_first = True)"
   ]
  },
  {
   "cell_type": "code",
   "execution_count": 35,
   "metadata": {},
   "outputs": [
    {
     "data": {
      "text/plain": [
       "0    38172\n",
       "1     5021\n",
       "Name: y, dtype: int64"
      ]
     },
     "execution_count": 35,
     "metadata": {},
     "output_type": "execute_result"
    }
   ],
   "source": [
    "bank.y.value_counts()"
   ]
  },
  {
   "cell_type": "code",
   "execution_count": 36,
   "metadata": {},
   "outputs": [
    {
     "data": {
      "text/plain": [
       "0    28628\n",
       "1     3766\n",
       "Name: y, dtype: int64"
      ]
     },
     "execution_count": 36,
     "metadata": {},
     "output_type": "execute_result"
    }
   ],
   "source": [
    "X = bank.drop(\"y\", axis = 1)\n",
    "y = bank.y\n",
    "X_train, X_test, y_train, y_test = train_test_split(X, y, random_state = 1,\n",
    "stratify=y)\n",
    "y_train.value_counts()"
   ]
  },
  {
   "cell_type": "markdown",
   "metadata": {},
   "source": [
    "### e. Hãy cho biết số lượng khách hàng đăng ký (subscribed) và không đăng ký (not subscribed) sau khi sử dụng các giải thuật cân bằng dữ liệu"
   ]
  },
  {
   "cell_type": "code",
   "execution_count": 38,
   "metadata": {},
   "outputs": [
    {
     "name": "stdout",
     "output_type": "stream",
     "text": [
      "Số lượng khách hàng đăng ký trước khi cân bằng dữ liệu: 5021\n",
      "Số lượng khách hàng không đăng ký trước khi cân bằng dữ liệu: 38172\n",
      "Số lượng khách hàng đăng ký sau khi sử dụng SMOTE: 28628\n",
      "Số lượng khách hàng không đăng ký sau khi sử dụng SMOTE: 28628\n",
      "Số lượng khách hàng đăng ký sau khi sử dụng NearMiss: 3766\n",
      "Số lượng khách hàng không đăng ký sau khi sử dụng NearMiss: 3766\n"
     ]
    }
   ],
   "source": [
    "from imblearn.over_sampling import SMOTE\n",
    "from imblearn.under_sampling import NearMiss\n",
    "\n",
    "# X = bank.drop(\"y\", axis = 1)\n",
    "# y = bank.y\n",
    "# X_train, X_test, y_train, y_test = train_test_split(X, y, random_state = 1,\n",
    "# stratify=y)\n",
    "\n",
    "# Sử dụng SMOTE để cân bằng dữ liệu\n",
    "smt = SMOTE()\n",
    "X_train_smt, y_train_smt = smt.fit_resample(X_train, y_train)\n",
    "\n",
    "# Sử dụng NearMiss để cân bằng dữ liệu\n",
    "nr = NearMiss()\n",
    "X_train_nr, y_train_nr = nr.fit_resample(X_train, y_train)\n",
    "\n",
    "# Sử dụng value_counts() để đếm số lượng khách hàng đăng ký và không đăng ký trước và sau khi cân bằng\n",
    "subscribed_counts_before_balance = y.value_counts()\n",
    "subscribed_counts_after_balance_smt = pd.Series(y_train_smt).value_counts()\n",
    "subscribed_counts_after_balance_nr = pd.Series(y_train_nr).value_counts()\n",
    "\n",
    "# Lấy số lượng khách hàng đăng ký và không đăng ký trước và sau khi cân bằng\n",
    "subscribed_customers_before_balance = subscribed_counts_before_balance[1]  # 1 đại diện cho đăng ký\n",
    "not_subscribed_customers_before_balance = subscribed_counts_before_balance[0]  # 0 đại diện cho không đăng ký\n",
    "subscribed_customers_after_balance_smt = subscribed_counts_after_balance_smt[1]  # 1 đại diện cho đăng ký\n",
    "not_subscribed_customers_after_balance_smt = subscribed_counts_after_balance_smt[0]  # 0 đại diện cho không đăng ký\n",
    "subscribed_customers_after_balance_nr = subscribed_counts_after_balance_nr[1]  # 1 đại diện cho đăng ký\n",
    "not_subscribed_customers_after_balance_nr = subscribed_counts_after_balance_nr[0]  # 0 đại diện cho không đăng ký\n",
    "\n",
    "# In số lượng khách hàng đăng ký và không đăng ký trước và sau khi cân bằng\n",
    "print(\"Số lượng khách hàng đăng ký trước khi cân bằng dữ liệu:\", subscribed_customers_before_balance)\n",
    "print(\"Số lượng khách hàng không đăng ký trước khi cân bằng dữ liệu:\", not_subscribed_customers_before_balance)\n",
    "print(\"Số lượng khách hàng đăng ký sau khi sử dụng SMOTE:\", subscribed_customers_after_balance_smt)\n",
    "print(\"Số lượng khách hàng không đăng ký sau khi sử dụng SMOTE:\", not_subscribed_customers_after_balance_smt)\n",
    "print(\"Số lượng khách hàng đăng ký sau khi sử dụng NearMiss:\", subscribed_customers_after_balance_nr)\n",
    "print(\"Số lượng khách hàng không đăng ký sau khi sử dụng NearMiss:\", not_subscribed_customers_after_balance_nr)"
   ]
  },
  {
   "cell_type": "code",
   "execution_count": 44,
   "metadata": {},
   "outputs": [
    {
     "name": "stdout",
     "output_type": "stream",
     "text": [
      "Accuracy:  0.5548661913140106\n",
      "Recall:  0.8310756972111554\n"
     ]
    }
   ],
   "source": [
    "from sklearn import svm\n",
    "model = svm.SVC()\n",
    "model.fit(X_train, y_train)\n",
    "\n",
    "y_pred = model.predict(X_test)\n",
    "confusion_matrix(y_test, y_pred)\n",
    "\n",
    "print(\"Accuracy: \", accuracy_score(y_test, y_pred))\n",
    "print(\"Recall: \", recall_score(y_test, y_pred))"
   ]
  },
  {
   "cell_type": "code",
   "execution_count": 41,
   "metadata": {},
   "outputs": [
    {
     "name": "stdout",
     "output_type": "stream",
     "text": [
      "Accuracy:  0.7783128067413649\n",
      "Recall:  0.7051792828685259\n"
     ]
    }
   ],
   "source": [
    "#SMOTE---------------------------------------------------------------------\n",
    "X_train, X_test, y_train, y_test = train_test_split(X, y, random_state = 1,\n",
    "stratify=y)\n",
    "smt = SMOTE()\n",
    "X_train, y_train = smt.fit_resample(X_train, y_train)\n",
    "np.bincount(y_train)\n",
    "from sklearn import svm\n",
    "model = svm.SVC()\n",
    "model.fit(X_train, y_train)\n",
    "y_pred = model.predict(X_test)\n",
    "confusion_matrix(y_test, y_pred)\n",
    "print(\"Accuracy: \", accuracy_score(y_test, y_pred))\n",
    "print(\"Recall: \", recall_score(y_test, y_pred))"
   ]
  },
  {
   "cell_type": "code",
   "execution_count": 43,
   "metadata": {},
   "outputs": [
    {
     "name": "stdout",
     "output_type": "stream",
     "text": [
      "Accuracy:  0.5548661913140106\n",
      "Recall:  0.8310756972111554\n"
     ]
    }
   ],
   "source": [
    "#NearMiss--------------------------------------------------------------------\n",
    "X_train, X_test, y_train, y_test = train_test_split(X, y, random_state = 1,\n",
    "stratify=y)\n",
    "nr = NearMiss()\n",
    "X_train, y_train = nr.fit_resample(X_train, y_train)\n",
    "np.bincount(y_train)\n",
    "from sklearn import svm\n",
    "model = svm.SVC()\n",
    "model.fit(X_train, y_train)\n",
    "y_pred = model.predict(X_test)\n",
    "confusion_matrix(y_test, y_pred)\n",
    "print(\"Accuracy: \", accuracy_score(y_test, y_pred))\n",
    "print(\"Recall: \", recall_score(y_test, y_pred))"
   ]
  }
 ],
 "metadata": {
  "kernelspec": {
   "display_name": "Python 3",
   "language": "python",
   "name": "python3"
  },
  "language_info": {
   "codemirror_mode": {
    "name": "ipython",
    "version": 3
   },
   "file_extension": ".py",
   "mimetype": "text/x-python",
   "name": "python",
   "nbconvert_exporter": "python",
   "pygments_lexer": "ipython3",
   "version": "3.11.4"
  }
 },
 "nbformat": 4,
 "nbformat_minor": 2
}
