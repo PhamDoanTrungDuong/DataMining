{
 "cells": [
  {
   "cell_type": "code",
   "execution_count": null,
   "metadata": {},
   "outputs": [],
   "source": [
    "import requests\n",
    "from bs4 import BeautifulSoup\n",
    "import json\n",
    "import codecs"
   ]
  },
  {
   "cell_type": "code",
   "execution_count": null,
   "metadata": {},
   "outputs": [],
   "source": [
    "headers={'User-Agent': 'Mozilla/5.0'}\n",
    "\n",
    "resultLaptop = []\n",
    "resultPhone = []\n",
    "linksLaptop = []\n",
    "linksPhone = []\n",
    "\n",
    "class Insert (object):\n",
    "    def __init__(self, username, comment):\n",
    "        self.username = username\n",
    "        self.comment = comment"
   ]
  },
  {
   "cell_type": "code",
   "execution_count": null,
   "metadata": {},
   "outputs": [],
   "source": [
    "response_laptop = requests.get(\"https://www.thegioididong.com/laptop-ldp\", headers=headers)\n",
    "soup_laptop = BeautifulSoup(response_laptop.content, \"html.parser\")\n",
    "\n",
    "response_phone = requests.get(\"https://www.thegioididong.com/dtdd\", headers=headers)\n",
    "soup_phone = BeautifulSoup(response_phone.content, \"html.parser\")\n",
    "\n",
    "for a in soup_laptop.find_all('a', class_='main-contain', href=True):\n",
    "    if a['href'].__contains__(\"phan-mem\"):\n",
    "        continue\n",
    "    linksLaptop.append(a['href'])\n",
    "    \n",
    "for a in soup_phone.find_all('a', class_='main-contain', href=True):\n",
    "    linksPhone.append(a['href'])"
   ]
  },
  {
   "cell_type": "code",
   "execution_count": null,
   "metadata": {},
   "outputs": [],
   "source": [
    "for link in linksLaptop:\n",
    "    for i in range(1, 30):\n",
    "        response = requests.get(f'https://www.thegioididong.com{link}/danh-gia?page={i}', headers=headers)\n",
    "\n",
    "        soup = BeautifulSoup(response.content, \"html.parser\")\n",
    "            \n",
    "        username = soup.find(\"p\", class_=\"cmt-top-name\")\n",
    "            \n",
    "        comment = soup.find(\"p\", class_=\"cmt-txt\")\n",
    "            \n",
    "        insert = Insert(username.text,comment.text)\n",
    "        resultLaptop.append(insert.__dict__)\n",
    "        \n",
    "for link in linksPhone:\n",
    "    for i in range(1, 30):\n",
    "        response = requests.get(f'https://www.thegioididong.com{link}/danh-gia?page={i}', headers=headers)\n",
    "\n",
    "        soup = BeautifulSoup(response.content, \"html.parser\")\n",
    "            \n",
    "        username = soup.find(\"p\", class_=\"cmt-top-name\")\n",
    "            \n",
    "        comment = soup.find(\"p\", class_=\"cmt-txt\")\n",
    "            \n",
    "        insert = Insert(username.text,comment.text)\n",
    "        resultPhone.append(insert.__dict__)"
   ]
  },
  {
   "cell_type": "markdown",
   "metadata": {},
   "source": []
  },
  {
   "cell_type": "code",
   "execution_count": null,
   "metadata": {},
   "outputs": [],
   "source": [
    "with codecs.open(\"data-laptop.json\", \"w\", encoding='utf-8') as outfile:\n",
    "    json.dump(resultLaptop, outfile, ensure_ascii=False)\n",
    "    \n",
    "with codecs.open(\"data-laptop.json\", \"w\", encoding='utf-8') as outfile:\n",
    "    json.dump(resultPhone, outfile, ensure_ascii=False)"
   ]
  }
 ],
 "metadata": {
  "kernelspec": {
   "display_name": "Python 3",
   "language": "python",
   "name": "python3"
  },
  "language_info": {
   "codemirror_mode": {
    "name": "ipython",
    "version": 3
   },
   "file_extension": ".py",
   "mimetype": "text/x-python",
   "name": "python",
   "nbconvert_exporter": "python",
   "pygments_lexer": "ipython3",
   "version": "3.11.4"
  },
  "orig_nbformat": 4
 },
 "nbformat": 4,
 "nbformat_minor": 2
}
