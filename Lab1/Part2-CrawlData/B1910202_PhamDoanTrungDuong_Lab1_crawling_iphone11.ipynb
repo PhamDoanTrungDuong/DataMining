{
 "cells": [
  {
   "cell_type": "code",
   "execution_count": null,
   "metadata": {},
   "outputs": [],
   "source": [
    "from bs4 import BeautifulSoup\n",
    "import requests\n",
    "import json\n",
    "import codecs"
   ]
  },
  {
   "cell_type": "code",
   "execution_count": null,
   "metadata": {},
   "outputs": [],
   "source": [
    "headers={'User-Agent': 'Mozilla/5.0'}\n",
    "\n",
    "PAGE = 1\n",
    "\n",
    "result = []\n",
    "\n",
    "class Insert (object):\n",
    "    def __init__(self, username, comment):\n",
    "        self.username = username\n",
    "        self.comment = comment"
   ]
  },
  {
   "cell_type": "code",
   "execution_count": null,
   "metadata": {},
   "outputs": [],
   "source": [
    "while True:\n",
    "    print(f'Crawl data in page {PAGE}')\n",
    "    # response = requests.get(f'https://www.thegioididong.com/dtdd/iphone-11/danh-gia?page={PAGE}')\n",
    "    response = requests.get(f'https://www.thegioididong.com/dtdd/iphone-11/danh-gia?page={PAGE}', headers=headers)\n",
    "\n",
    "    soup = BeautifulSoup(response.content, \"html.parser\")\n",
    "    \n",
    "    username = soup.find(\"p\", class_=\"cmt-top-name\")\n",
    "    \n",
    "    comment = soup.find(\"p\", class_=\"cmt-txt\")\n",
    "    \n",
    "    insert = Insert(username.text,comment.text)\n",
    "    result.append(insert.__dict__)\n",
    "\n",
    "    PAGE+=1"
   ]
  },
  {
   "cell_type": "code",
   "execution_count": null,
   "metadata": {},
   "outputs": [],
   "source": [
    "# dump dict to json file\n",
    "with codecs.open(\"data.json\", \"w\", encoding='utf-8') as outfile:\n",
    "    json.dump(result, outfile, ensure_ascii=False)"
   ]
  },
  {
   "cell_type": "code",
   "execution_count": null,
   "metadata": {},
   "outputs": [],
   "source": [
    "# print\n",
    "print(result)"
   ]
  }
 ],
 "metadata": {
  "kernelspec": {
   "display_name": "Python 3",
   "language": "python",
   "name": "python3"
  },
  "language_info": {
   "codemirror_mode": {
    "name": "ipython",
    "version": 3
   },
   "file_extension": ".py",
   "mimetype": "text/x-python",
   "name": "python",
   "nbconvert_exporter": "python",
   "pygments_lexer": "ipython3",
   "version": "3.11.4"
  },
  "orig_nbformat": 4
 },
 "nbformat": 4,
 "nbformat_minor": 2
}
