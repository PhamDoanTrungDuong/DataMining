{
 "cells": [
  {
   "cell_type": "code",
   "execution_count": null,
   "metadata": {},
   "outputs": [],
   "source": [
    "import requests\n",
    "from bs4 import BeautifulSoup\n",
    "import json"
   ]
  },
  {
   "cell_type": "code",
   "execution_count": null,
   "metadata": {},
   "outputs": [],
   "source": [
    "class Insert (object):\n",
    "    def __init__(self, tilte, abstract, body):\n",
    "        self.tilte = tilte\n",
    "        self.abstract = abstract\n",
    "        self.body = body"
   ]
  },
  {
   "cell_type": "code",
   "execution_count": null,
   "metadata": {},
   "outputs": [],
   "source": [
    "response = requests.get(\"https://vnexpress.net/the-thao\")\n",
    "soup = BeautifulSoup(response.content, \"html.parser\")\n",
    "\n",
    "titles = soup.findAll('h3', class_='title-news')\n",
    "\n",
    "links = [link.find('a').attrs[\"href\"] for link in titles]\n",
    "\n",
    "last_j = []"
   ]
  },
  {
   "cell_type": "code",
   "execution_count": null,
   "metadata": {},
   "outputs": [],
   "source": [
    "for link in links:\n",
    "    news = requests.get(link)\n",
    "\n",
    "    soup = BeautifulSoup(news.content, \"html.parser\")\n",
    "\n",
    "    tilte = soup.find(\"h1\", class_=\"title-detail\")\n",
    "\n",
    "    abstract = soup.find(\"p\", class_=\"description\")\n",
    "\n",
    "    body = soup.find(\"p\", class_=\"Normal\")\n",
    "\n",
    "    insert = Insert(tilte.text,abstract.text,body.text)\n",
    "    last_j.append(insert.__dict__)"
   ]
  },
  {
   "cell_type": "code",
   "execution_count": null,
   "metadata": {},
   "outputs": [],
   "source": [
    "with open('data.json', 'w', encoding='utf-8') as file:\n",
    "    json.dump(last_j, file)"
   ]
  }
 ],
 "metadata": {
  "kernelspec": {
   "display_name": "Python 3",
   "language": "python",
   "name": "python3"
  },
  "language_info": {
   "codemirror_mode": {
    "name": "ipython",
    "version": 3
   },
   "file_extension": ".py",
   "mimetype": "text/x-python",
   "name": "python",
   "nbconvert_exporter": "python",
   "pygments_lexer": "ipython3",
   "version": "3.11.4"
  },
  "orig_nbformat": 4
 },
 "nbformat": 4,
 "nbformat_minor": 2
}
